{
 "cells": [
  {
   "cell_type": "code",
   "execution_count": 1,
   "metadata": {
    "id": "-_GHTDaeYmWe",
    "colab_type": "code",
    "colab": {}
   },
   "outputs": [],
   "source": [
    "import numpy as np\n",
    "home_dir ='./'\n"
   ]
  },
  {
   "cell_type": "code",
   "execution_count": 3,
   "metadata": {
    "id": "luxid9egYp97",
    "colab_type": "code",
    "colab": {
     "base_uri": "https://localhost:8080/",
     "height": 50.0
    },
    "outputId": "dbeb5c8c-ef83-48dc-ae03-507d530e6dee",
    "executionInfo": {
     "status": "ok",
     "timestamp": 1.536871518607E12,
     "user_tz": -180.0,
     "elapsed": 2973.0,
     "user": {
      "displayName": "Alexandr Vinogradov",
      "photoUrl": "https://lh3.googleusercontent.com/a/default-user=s128",
      "userId": "101969045603706244994"
     }
    }
   },
   "outputs": [],
   "source": [
    "\n",
    "import numpy as np\n",
    "x_train = np.load(home_dir + 'data/detector_data.npy')\n",
    "y_train = np.load(home_dir + 'data/ydetector_data.npy')\n",
    "\n",
    "x_train = x_train.reshape(-1,x_train.shape[1], x_train.shape[2])"
   ]
  },
  {
   "cell_type": "code",
   "execution_count": null,
   "metadata": {
    "id": "QgJKStUPZm2z",
    "colab_type": "code",
    "colab": {
     "base_uri": "https://localhost:8080/",
     "height": 1946.0
    },
    "outputId": "2faac113-8dee-4739-f294-2ecd44593a7e",
    "executionInfo": {
     "status": "error",
     "timestamp": 1.536871493577E12,
     "user_tz": -180.0,
     "elapsed": 166356.0,
     "user": {
      "displayName": "Alexandr Vinogradov",
      "photoUrl": "https://lh3.googleusercontent.com/a/default-user=s128",
      "userId": "101969045603706244994"
     }
    },
    "collapsed": true
   },
   "outputs": [],
   "source": [
    "from keras.models import Sequential\n",
    "from keras.layers import GRU, Dense, Activation, LSTM, Dropout, Conv2D, Flatten\n",
    "from keras.metrics import categorical_accuracy, binary_accuracy\n",
    "from sklearn.utils import shuffle\n",
    "model = Sequential()\n",
    "\n",
    "model.add(LSTM(256, input_shape = (x_train.shape[1:]), return_sequences = True))\n",
    "\n",
    "model.add(Dropout(0.5))\n",
    "model.add(LSTM(128, input_shape = (x_train.shape[1:]), return_sequences = False))\n",
    "model.add(Dropout(0.5))\n",
    "\n",
    "model.add(Dense(2))\n",
    "model.add(Activation('sigmoid'))\n",
    "model.compile(loss='binary_crossentropy', optimizer='adam', metrics=[binary_accuracy])\n",
    "x_train, y_train = shuffle(x_train,y_train)\n"
   ]
  },
  {
   "cell_type": "code",
   "execution_count": null,
   "metadata": {
    "id": "QgJKStUPZm2z",
    "colab_type": "code",
    "colab": {
     "base_uri": "https://localhost:8080/",
     "height": 1946.0
    },
    "outputId": "2faac113-8dee-4739-f294-2ecd44593a7e",
    "executionInfo": {
     "status": "error",
     "timestamp": 1.536871493577E12,
     "user_tz": -180.0,
     "elapsed": 166356.0,
     "user": {
      "displayName": "Alexandr Vinogradov",
      "photoUrl": "https://lh3.googleusercontent.com/a/default-user=s128",
      "userId": "101969045603706244994"
     }
    },
    "collapsed": true
   },
   "outputs": [],
   "source": [
    "\n",
    "model.fit(x_train, y_train, batch_size=512, epochs=100, validation_split=0.1)\n"
   ]
  },
  {
   "cell_type": "code",
   "execution_count": 6,
   "metadata": {
    "id": "QgJKStUPZm2z",
    "colab_type": "code",
    "colab": {
     "base_uri": "https://localhost:8080/",
     "height": 1946.0
    },
    "outputId": "2faac113-8dee-4739-f294-2ecd44593a7e",
    "executionInfo": {
     "status": "error",
     "timestamp": 1.536871493577E12,
     "user_tz": -180.0,
     "elapsed": 166356.0,
     "user": {
      "displayName": "Alexandr Vinogradov",
      "photoUrl": "https://lh3.googleusercontent.com/a/default-user=s128",
      "userId": "101969045603706244994"
     }
    },
    "collapsed": true
   },
   "outputs": [],
   "source": [
    "\n",
    "model.load_weights('./models/detector_model_2')\n"
   ]
  },
  {
   "cell_type": "code",
   "execution_count": 7,
   "metadata": {
    "id": "AIk_QDnVhAxS",
    "colab_type": "code",
    "colab": {
     "base_uri": "https://localhost:8080/",
     "height": 134.0
    },
    "outputId": "fd8b2898-51f1-41ce-e4c6-f7497e009677",
    "executionInfo": {
     "status": "ok",
     "timestamp": 1.536871615904E12,
     "user_tz": -180.0,
     "elapsed": 3294.0,
     "user": {
      "displayName": "Alexandr Vinogradov",
      "photoUrl": "https://lh3.googleusercontent.com/a/default-user=s128",
      "userId": "101969045603706244994"
     }
    }
   },
   "outputs": [
    {
     "name": "stdout",
     "output_type": "stream",
     "text": [
      "             precision    recall  f1-score   support\n\n          0       0.97      0.95      0.96      1148\n          1       0.94      0.97      0.96       978\n\navg / total       0.96      0.96      0.96      2126\n\n"
     ]
    }
   ],
   "source": [
    "from sklearn.metrics import classification_report\n",
    "x_test = np.load(home_dir + 'data/detector_data_test.npy')\n",
    "y_test= np.load(home_dir + 'data/ydetector_data_test.npy')\n",
    "\n",
    "x_test = x_test.reshape(-1,x_test.shape[1], x_test.shape[2])\n",
    "y_pred = model.predict(x_test)\n",
    "print( classification_report(np.argmax(y_pred ,axis =1), np.argmax(y_test , axis =1) ) )"
   ]
  },
  {
   "cell_type": "code",
   "execution_count": 0,
   "metadata": {
    "id": "7wsA3zpxqQ25",
    "colab_type": "code",
    "colab": {}
   },
   "outputs": [],
   "source": [
    "model.save(home_dir + '/models/detector_model_2')"
   ]
  }
 ],
 "metadata": {
  "colab": {
   "name": "train-detector.ipynb",
   "version": "0.3.2",
   "provenance": [],
   "collapsed_sections": []
  },
  "kernelspec": {
   "name": "python3",
   "display_name": "Python 3"
  },
  "accelerator": "GPU"
 },
 "nbformat": 4,
 "nbformat_minor": 0
}
