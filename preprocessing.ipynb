{
 "cells": [
  {
   "cell_type": "code",
   "execution_count": 1,
   "metadata": {
    "collapsed": false
   },
   "outputs": [
    {
     "name": "stdout",
     "output_type": "stream",
     "text": [
      "(11307, 2)\n"
     ]
    }
   ],
   "source": [
    "import numpy as np\n",
    "from util.utility_functions import load_dataset\n",
    "\n",
    "from util.utility_functions import get_random_segment\n",
    "import librosa\n",
    "from speechpy.feature import lmfe\n",
    "from util.detector import calculate_RMS\n",
    "\n",
    "import matplotlib.pyplot as plt"
   ]
  },
  {
   "cell_type": "markdown",
   "metadata": {},
   "source": [
    "# Load dataset"
   ]
  },
  {
   "cell_type": "code",
   "execution_count": 2,
   "metadata": {
    "collapsed": false
   },
   "outputs": [
    {
     "name": "stdout",
     "output_type": "stream",
     "text": [
      "(11307, 2)\n"
     ]
    }
   ],
   "source": [
    "path_to_file = './audio/'\n",
    "path_to_file_test = './test/'\n",
    "path_to_file_unknown = './unknown/'\n",
    "# extract classes from txt file\n",
    "\n",
    "raw_classes = np.loadtxt('./meta/meta.txt', dtype='str')\n",
    "classes = np.delete(raw_classes, [1, 2, 3], 1)\n",
    "\n",
    "text_labels = ['background', 'bags', 'door', 'keyboard', 'knocking_door', 'ring', 'speech', 'tool']\n",
    "for index, label in enumerate(text_labels):\n",
    "    classes[classes == label] = index\n",
    "\n",
    "dict_classes = dict(classes)\n",
    "classes_test = np.loadtxt('./meta/meta-test.txt',dtype='str')\n",
    "\n",
    "dict_classes_test = dict(classes_test)\n",
    "\n",
    "raw_data_train = np.array(load_dataset(path_to_file, dict_classes))\n",
    "raw_data_test = np.array(load_dataset(path_to_file_test, dict_classes_test))\n",
    "raw_data_unknown = np.array(load_dataset(path_to_file_unknown))\n",
    "\n",
    "print(raw_data_train.shape)"
   ]
  },
  {
   "cell_type": "markdown",
   "metadata": {},
   "source": [
    "# Random 3 sec segmentation"
   ]
  },
  {
   "cell_type": "code",
   "execution_count": null,
   "metadata": {
    "collapsed": true
   },
   "outputs": [],
   "source": [
    "# random 3 sec segmentation\n",
    "\n",
    "from util.detector import Detector\n",
    "from util.utility_functions import segment_audio, segment_audio_unknown\n",
    "\n",
    "detector = Detector()\n",
    "\n",
    "\n",
    "segmented_data_train = segment_audio(raw_data_train, detector)\n",
    "\n",
    "segmented_data_test = segment_audio(raw_data_test, detector)\n",
    "\n",
    "segmented_data_unknown = segment_audio_unknown(raw_data_unknown)\n",
    "\n",
    "\n",
    "print(segmented_data_test)"
   ]
  },
  {
   "cell_type": "markdown",
   "metadata": {},
   "source": [
    "# Extraction features"
   ]
  },
  {
   "cell_type": "code",
   "execution_count": null,
   "metadata": {
    "collapsed": true
   },
   "outputs": [
    {
     "name": "stdout",
     "output_type": "stream",
     "text": [
      "(137, 298, 40)\n"
     ]
    }
   ],
   "source": [
    "from util.utility_functions import extract_feature\n",
    "\n",
    "mode = 'mbe'\n",
    "x_train = np.array(extract_feature(segmented_data_train, mode))\n",
    "x_test = np.array(extract_feature(segmented_data_test, mode))\n",
    "x_unknown = np.array(extract_feature(segmented_data_unknown, mode))\n"
   ]
  },
  {
   "cell_type": "code",
   "execution_count": 19,
   "metadata": {
    "collapsed": true
   },
   "outputs": [
    {
     "name": "stdout",
     "output_type": "stream",
     "text": [
      "(137, 298, 40)\n"
     ]
    }
   ],
   "source": [
    "label_train = raw_data_train[:,1]\n",
    "y_train = np.zeros((label_train.shape[0],8))\n",
    "\n",
    "for i in range(label_train.shape[0]):\n",
    "    label = int(label_train[i])\n",
    "    y_train[i, label] = 1\n",
    "    \n",
    "label_test= raw_data_test[:,1]\n",
    "y_test = np.zeros((label_test.shape[0],8))\n",
    "\n",
    "for i in range(label_test.shape[0]):\n",
    "    label = int(label_test[i])\n",
    "    if(label ==8):\n",
    "        continue\n",
    "    y_test[i, label] = 1\n",
    "print(x_unknown.shape)\n"
   ]
  },
  {
   "cell_type": "code",
   "execution_count": 8,
   "metadata": {},
   "outputs": [
    {
     "name": "stdout",
     "output_type": "stream",
     "text": [
      "(137, 298, 40)\n['2' '2' '7' ... '0' '2' '2']\n"
     ]
    }
   ],
   "source": [
    "print(x_unknown.shape)\n",
    "print(y_train)"
   ]
  },
  {
   "cell_type": "code",
   "execution_count": 16,
   "metadata": {},
   "outputs": [],
   "source": [
    "filename = 'mbe_3sec_random_default'\n",
    "np.save('data/'+ filename, x_train)\n",
    "np.save('data/y', y_train)\n",
    "np.save('data/' + filename+ '_test', x_test)\n",
    "np.save('data/y_test', y_test)\n",
    "np.save('data/x_unknown',x_unknown)"
   ]
  },
  {
   "cell_type": "markdown",
   "metadata": {},
   "source": [
    "#Detector"
   ]
  },
  {
   "cell_type": "code",
   "execution_count": 13,
   "metadata": {},
   "outputs": [
    {
     "name": "stdout",
     "output_type": "stream",
     "text": [
      "(432, 2)\n"
     ]
    }
   ],
   "source": [
    "# extract features for training detector\n",
    "\n",
    "\n",
    "# test \n",
    "\n",
    "# files without events\n",
    "background = raw_data_test[raw_data_test[:,1] == '0']\n",
    "\n",
    "background_features_test = []\n",
    "\n",
    "for frame in background[:,0]:\n",
    "\n",
    "    sound = get_random_segment(frame)\n",
    "    feature = lmfe(sound.astype(float), 16000)\n",
    "\n",
    "    background_features_test.append(feature)\n",
    "\n",
    "\n",
    "# files with events\n",
    "events1 = raw_data_test[(raw_data_test[:,1] == '1')]\n",
    "events2 = raw_data_test[(raw_data_test[:,1] == '2')]\n",
    "events3 = raw_data_test[(raw_data_test[:,1] == '3')]\n",
    "events4 = raw_data_test[(raw_data_test[:,1] == '4')]\n",
    "events5 = raw_data_test[(raw_data_test[:,1] == '5')]\n",
    "events6 = raw_data_test[(raw_data_test[:,1] == '6')]\n",
    "events7 = raw_data_test[(raw_data_test[:,1] == '7')]\n",
    "\n",
    "events = np.concatenate([events1,events2, events3, events4, events5, events6, events7])\n",
    "\n",
    "event_features_test = []\n",
    "for frame in events[:,0]:\n",
    "    # extract feature\n",
    "    sound = get_random_segment(frame)\n",
    "    feature = lmfe(sound.astype(float), 16000)\n",
    "\n",
    "    event_features_test.append(feature)\n",
    "\n",
    "    pass\n",
    "\n",
    "print(events.shape)\n",
    "\n",
    "# train \n",
    "\n",
    "background = raw_data_train[raw_data_train[:,1] == '0']\n",
    "\n",
    "background_features_train= []\n",
    "\n",
    "for frame in background[:,0]:\n",
    "\n",
    "    sound = get_random_segment(frame)\n",
    "    feature = lmfe(sound.astype(float), 16000)\n",
    "\n",
    "    background_features_train.append(feature)\n",
    "\n",
    "\n",
    "# files with events\n",
    "events1 = raw_data_train[(raw_data_train[:,1] == '1')]\n",
    "events2 = raw_data_train[(raw_data_train[:,1] == '2')]\n",
    "events3 = raw_data_train[(raw_data_train[:,1] == '3')]\n",
    "events4 = raw_data_train[(raw_data_train[:,1] == '4')]\n",
    "events5 = raw_data_train[(raw_data_train[:,1] == '5')]\n",
    "events6 = raw_data_train[(raw_data_train[:,1] == '6')]\n",
    "events7 = raw_data_train[(raw_data_train[:,1] == '7')]\n",
    "\n",
    "events = np.concatenate([events1,events2, events3, events4, events5, events6, events7])\n",
    "\n",
    "event_features_train = []\n",
    "for frame in events[:,0]:\n",
    "    # extract feature\n",
    "    sound = get_random_segment(frame)\n",
    "    feature = lmfe(sound.astype(float), 16000)\n",
    "\n",
    "    event_features_train.append(feature)\n",
    "\n",
    "    pass\n"
   ]
  },
  {
   "cell_type": "code",
   "execution_count": 24,
   "metadata": {},
   "outputs": [],
   "source": [
    "from sklearn.utils import shuffle\n",
    "\n",
    "\n",
    "event_features_train = shuffle(event_features_train)\n",
    "event_features_train = event_features_train[:1000]\n",
    "x_train_detector = np.concatenate([background_features_train, event_features_train])\n",
    "x_train_detector = x_train_detector.reshape((-1,x_train_detector.shape[1],x_train_detector.shape[2], 1))\n",
    "y_train_detector = np.zeros((x_train_detector.shape[0],2))\n",
    "y_train_detector[:len(background_features_train), 0] = 1\n",
    "y_train_detector[len(background_features_train):, 1] = 1\n",
    "\n",
    "event_features_test = shuffle(event_features_test)\n",
    "event_features_test = event_features_test[:100]\n",
    "x_test_detector = np.concatenate([background_features_test, event_features_test])\n",
    "x_test_detector = x_test_detector.reshape((-1,x_test_detector.shape[1], x_test_detector.shape[2], 1))\n",
    "y_test_detector = np.zeros((x_test_detector.shape[0],2))\n",
    "y_test_detector[:len(background_features_test), 0] = 1\n",
    "y_test_detector[len(background_features_test):, 1] = 1\n",
    "\n",
    "\n",
    "filename = 'detector_data_test'\n",
    "np.save('data/' + filename, x_train_detector)\n",
    "np.save('data/y' + filename, y_train_detector)\n"
   ]
  },
  {
   "cell_type": "code",
   "execution_count": 27,
   "metadata": {},
   "outputs": [
    {
     "data": {
      "text/plain": [
       "(141, 298, 40, 1)"
      ]
     },
     "execution_count": 27,
     "metadata": {},
     "output_type": "execute_result"
    }
   ],
   "source": [
    "x_test_detector.shape\n"
   ]
  },
  {
   "cell_type": "code",
   "execution_count": null,
   "metadata": {},
   "outputs": [],
   "source": []
  }
 ],
 "metadata": {
  "kernelspec": {
   "display_name": "Python 2",
   "language": "python",
   "name": "python2"
  },
  "language_info": {
   "codemirror_mode": {
    "name": "ipython",
    "version": 2
   },
   "file_extension": ".py",
   "mimetype": "text/x-python",
   "name": "python",
   "nbconvert_exporter": "python",
   "pygments_lexer": "ipython2",
   "version": "2.7.6"
  }
 },
 "nbformat": 4,
 "nbformat_minor": 0
}
