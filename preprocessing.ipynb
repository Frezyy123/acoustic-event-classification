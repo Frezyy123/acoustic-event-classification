{
 "cells": [
  {
   "cell_type": "code",
   "execution_count": 2,
   "metadata": {
    "collapsed": false
   },
   "outputs": [
    {
     "name": "stderr",
     "output_type": "stream",
     "text": [
      "Using TensorFlow backend.\n"
     ]
    }
   ],
   "source": [
    "import numpy as np\n",
    "from util.utility_functions import load_dataset\n",
    "\n",
    "from util.utility_functions import get_random_segment\n",
    "import librosa\n",
    "from speechpy.feature import lmfe\n",
    "from util.detector import calculate_RMS\n",
    "\n",
    "import matplotlib.pyplot as plt"
   ]
  },
  {
   "cell_type": "markdown",
   "metadata": {},
   "source": [
    "# Load dataset"
   ]
  },
  {
   "cell_type": "code",
   "execution_count": 3,
   "metadata": {
    "collapsed": false
   },
   "outputs": [
    {
     "name": "stdout",
     "output_type": "stream",
     "text": [
      "(11307, 2)\n"
     ]
    }
   ],
   "source": [
    "path_to_file = './audio/'\n",
    "path_to_file_test = './test/'\n",
    "path_to_file_unknown = './unknown/'\n",
    "# extract classes from txt file\n",
    "\n",
    "raw_classes = np.loadtxt('./meta/meta.txt', dtype='str')\n",
    "classes = np.delete(raw_classes, [1, 2, 3], 1)\n",
    "\n",
    "text_labels = ['background', 'bags', 'door', 'keyboard', 'knocking_door', 'ring', 'speech', 'tool']\n",
    "for index, label in enumerate(text_labels):\n",
    "    classes[classes == label] = index\n",
    "\n",
    "dict_classes = dict(classes)\n",
    "classes_test = np.loadtxt('./meta/meta-test.txt',dtype='str')\n",
    "\n",
    "dict_classes_test = dict(classes_test)\n",
    "\n",
    "raw_data_train = np.array(load_dataset(path_to_file, dict_classes))\n",
    "raw_data_test = np.array(load_dataset(path_to_file_test, dict_classes_test))\n",
    "raw_data_unknown = np.array(load_dataset(path_to_file_unknown))\n",
    "\n",
    "print(raw_data_train.shape)"
   ]
  },
  {
   "cell_type": "markdown",
   "metadata": {},
   "source": [
    "# Random 3 sec segmentation"
   ]
  },
  {
   "cell_type": "code",
   "execution_count": 5,
   "metadata": {
    "collapsed": true
   },
   "outputs": [
    {
     "name": "stdout",
     "output_type": "stream",
     "text": [
      "[array([149,  74, 139, ..., -13,   6,  -9], dtype=int16), array([ -6,  -1, -10, ..., 370, 363, 364], dtype=int16), array([173, 107, 444, ..., -96, -75, -57], dtype=int16), array([ 14,  16,  18, ..., -38, -19,   0], dtype=int16), array([ 0,  0,  0, ..., -6,  4, 19], dtype=int16), array([ -12,    9,   24, ...,  346,  536, -503], dtype=int16), array([ -78,  -80,  -84, ..., -430,  -32,  127], dtype=int16), array([ -7, -10, -14, ...,  -5,  -5,  -6], dtype=int16), array([-1949, -2265, -2615, ...,    40,    57,    47], dtype=int16), array([-3, -3,  0, ...,  5, 10,  5], dtype=int16), array([ -5,   5,  15, ..., -10,  -6,   2], dtype=int16), array([244,  76, -16, ...,  57, -77, -80], dtype=int16), array([139, -63,  47, ..., 131, 120,  90], dtype=int16), array([-195,  506,  304, ...,  218,  361,  -74], dtype=int16), array([ -28,  -19,  -14, ...,  363,   99, -208], dtype=int16), array([   0,    0,    0, ..., 2675, 2549, 2409], dtype=int16), array([ -256,  -479, -1051, ...,    19,    13,     9], dtype=int16), array([-42, -44, -20, ...,  14, -24, -73], dtype=int16), array([330, 281,  68, ..., 362, 326, 263], dtype=int16), array([  33,   32,   34, ..., -701,  639, 1600], dtype=int16), array([  222,   510,   730, ...,  3974,   210, -1453], dtype=int16), array([1571, 1744, 1042, ...,    0,  -11,   -5], dtype=int16), array([ -55,   -3,   50, ..., 3252, 1872, 1569], dtype=int16), array([-2581, -2334, -1936, ...,   -71,  -106,  -164], dtype=int16), array([ 36,  22,  -5, ...,  26,  87, 165], dtype=int16), array([ 0,  0,  0, ..., 22, 50, 54], dtype=int16), array([ 0,  0,  0, ..., 22, 10, 22], dtype=int16), array([ 1,  0,  1, ..., -6, -4, -8], dtype=int16), array([156, 125,  37, ...,  16,   0,  -8], dtype=int16), array([ 207, -271,   42, ..., -401, -234,  187], dtype=int16), array([-116, -128, -110, ..., -135, -100,  -84], dtype=int16), array([  11,   11,   13, ...,  429, 2318, 3622], dtype=int16), array([-40, -45, -29, ..., 129, 145, 326], dtype=int16), array([ -2,  19,  -5, ..., -13, -14, -20], dtype=int16), array([ 341,  -36, -862, ...,  -14,   -6,   -3], dtype=int16), array([-37,  42, 412, ..., 445, 387, -76], dtype=int16), array([    1,     1,     0, ..., -2000, -1491, -1102], dtype=int16), array([ -338,  -325,  -284, ..., -3234, -2328, -2129], dtype=int16), array([-1,  1, -1, ...,  0,  3, -2], dtype=int16), array([-83, -51, -57, ..., -21,  -7, -22], dtype=int16), array([-357, -344, -311, ...,  -33,  146,  265], dtype=int16), array([-1939,  1695,  -439, ...,   -33,   -61,    13], dtype=int16), array([-24, -35, -31, ..., -49, -50, -54], dtype=int16), array([  62,  153,  254, ..., 2264, 2334, 2128], dtype=int16), array([57, 69, 96, ..., 54, 72, 88], dtype=int16), array([  44,   10,   30, ..., -817,   35, 1332], dtype=int16), array([ 709,  999, -390, ...,   -5,    7,    1], dtype=int16), array([ -44, -397,  173, ..., -133, -277, -723], dtype=int16), array([ 3,  1, 23, ..., 23, 22, 23], dtype=int16), array([ 328,  181,   45, ..., -186, -170, -158], dtype=int16), array([-4670, -3677, -2366, ...,  -480,  -532,   578], dtype=int16), array([-123,  -97,  -55, ...,   20,   10,    2], dtype=int16), array([ 0,  0,  0, ...,  0, -1,  1], dtype=int16), array([ 7,  9,  7, ..., 68, 69, 61], dtype=int16), array([-100, -146, -107, ...,  -40,  -13,  -26], dtype=int16), array([   0,    0,    0, ..., -112, -110,  -87], dtype=int16), array([-2200, -1883,  -566, ...,     0,     5,     5], dtype=int16), array([ -18,  -31,  -32, ..., -209, -202, -214], dtype=int16), array([  0,   0,   0, ..., -84, -53,  -8], dtype=int16), array([-1, -2, -2, ...,  1,  2,  0], dtype=int16), array([ 1306,  -479,  -801, ..., -2802, -1192,  -203], dtype=int16), array([ -3, -12, -32, ...,  18,  -1, -12], dtype=int16), array([   2,   -3,   -3, ..., 2145,  682, -783], dtype=int16), array([-5576, -5083, -4093, ...,   -64,   -76,   -51], dtype=int16), array([ -72, -196,  -52, ..., -137, -127, -110], dtype=int16), array([  -4,   22,   -6, ...,   67, -147, -119], dtype=int16), array([  37,  -26, -154, ...,  -12,   -6,   -9], dtype=int16), array([  46,  928,  664, ...,  -42, -412, -548], dtype=int16), array([-2,  2,  5, ..., 44, 51, 38], dtype=int16), array([ 155,  133,  108, ..., -222, -323, -409], dtype=int16), array([ -40,  -66, -105, ..., -363, -420, -439], dtype=int16), array([ 18,  22,  46, ..., 574, 744, 510], dtype=int16), array([-1931,  -392,  -195, ...,   839,    85,  -526], dtype=int16), array([  -88,    45,   -21, ..., 11407, 13792, 13935], dtype=int16), array([   14,    73,   402, ...,  2824, -4047,  3591], dtype=int16), array([ -13,  -94, -167, ...,   -3,  -96, -120], dtype=int16), array([   55,    47,    31, ...,  2907,  1855, -1362], dtype=int16), array([ -922,  -599,  -568, ...,  1318,   810, -1415], dtype=int16), array([ -940, -1265, -1498, ...,  -108,   -57,    29], dtype=int16), array([-13, -15, -10, ..., -33, -22, -26], dtype=int16), array([-1, -1,  0, ..., 14, 51, 15], dtype=int16), array([-2488, -2678, -2908, ...,   170,    76,    55], dtype=int16), array([  475,   204,    56, ...,  -789, -1179, -1642], dtype=int16), array([ -4,  -8,  -9, ..., -28, -27, -20], dtype=int16), array([ 280,  315,   -6, ...,  -64, -172, -377], dtype=int16), array([  600,   641,   987, ..., -1164, -1266, -1926], dtype=int16), array([  40,   30,   19, ..., -403, -360, -412], dtype=int16), array([15, 22, 19, ..., 24, 11, 25], dtype=int16), array([ -1,  -9, -13, ..., 331, 545, 503], dtype=int16), array([  0,   0,   0, ..., -21,  -7, -11], dtype=int16), array([ -8, -11,  -7, ...,   7,   2,  -4], dtype=int16), array([  -24,   -29,     7, ...,  1839,  -110, -1353], dtype=int16), array([-16,  15,  51, ..., -85, -90, -57], dtype=int16), array([159,  78, -15, ..., 591, 429, 194], dtype=int16), array([1635, 3449, 4566, ..., -138,  -53,   37], dtype=int16), array([   3,    1,    2, ..., -827, -698, -247], dtype=int16), array([ -12,  -13,  -17, ...,  -79,  -22, -373], dtype=int16), array([-1,  4,  6, ..., 40, 42, 36], dtype=int16), array([  -1,    0,    1, ..., -368, -131,   46], dtype=int16), array([-10, -14, -12, ..., -53, -60, -39], dtype=int16), array([1546, 1808, 1728, ...,  -14,  -14,  -15], dtype=int16), array([  46,   63,   46, ..., 7830, 4514, 1803], dtype=int16), array([-1018,  -851,  -525, ...,    55,   168,   279], dtype=int16), array([-15, -17, -17, ..., -13,  -6,   0], dtype=int16), array([ -480,  -916, -1215, ...,    52,    60,    69], dtype=int16), array([-8, -1, -8, ...,  9, -1, -3], dtype=int16), array([ 2911,  2975,  3171, ..., -4437, -4663, -6803], dtype=int16), array([ 299,  238,  177, ..., -265, -132,   55], dtype=int16), array([ 0, -1,  0, ...,  4,  4,  3], dtype=int16), array([ 25,  22,  26, ..., -84, -89, -53], dtype=int16), array([ 91,  98, 120, ..., 375, 186,  61], dtype=int16), array([  76,  103,  131, ..., -129, -178, -233], dtype=int16), array([  -3,   -2,   -3, ..., 1091, 1349, 1095], dtype=int16), array([-7, -3,  0, ...,  8,  7,  0], dtype=int16), array([ -63,  -70,  -69, ..., -140,   57,  641], dtype=int16), array([-66, -50, -40, ..., 214, 213,  29], dtype=int16), array([-35,  19, -13, ..., -33,  86,  12], dtype=int16), array([-256,  813,  153, ...,  -22, -329,  196], dtype=int16), array([ 11,  11,  16, ...,  12, -21,  37], dtype=int16), array([ -22,  -23,  -36, ...,   11, -126,  -63], dtype=int16), array([90, 89, 97, ..., 69, 83, 97], dtype=int16), array([4033, 3815, 3737, ...,  -68,  298,  379], dtype=int16), array([  789,   226, -1049, ...,  -236,   214,    19], dtype=int16), array([  -2,   -3,   -3, ..., -638, -450,   59], dtype=int16), array([  7,  17,  19, ..., -17,  15, -21], dtype=int16), array([ 27,  17,  -8, ...,   6,   9, -11], dtype=int16), array([ 0, 16, 28, ..., 16,  9, -4], dtype=int16), array([-11, -23, -30, ...,   6,  -7,   0], dtype=int16), array([-745, -275,  196, ..., -226,  -66,  -38], dtype=int16), array([111,  87,  81, ...,  71,  75,  79], dtype=int16), array([  -2,    1,    6, ...,  -63, -104, -111], dtype=int16), array([261, 114, -42, ..., -15, -11,  -6], dtype=int16), array([-18, -12,  -3, ...,   7,  16,  12], dtype=int16), array([ -9910,  -7227,  -3928, ..., -12113,  -9910,  -7227], dtype=int16), array([37, 42, 56, ..., 32, 37, 45], dtype=int16), array([  1, -23,   0, ...,  -1, 370, -78], dtype=int16), array([0, 0, 0, ..., 5, 4, 6], dtype=int16), array([ 337,  338, -117, ...,   30,   90,   22], dtype=int16), array([-13, -10,  -2, ..., 167,  51,  -5], dtype=int16), array([    7,     5,     2, ..., -3562, -3499, -3470], dtype=int16), array([ 30, 434, 466, ..., 286, 426, 565], dtype=int16), array([-66, -67, -60, ...,   9,   0,   8], dtype=int16), array([ 91,  86, 124, ..., 637, 455, 418], dtype=int16), array([-535, -339, -184, ...,  -19,  -15,  -14], dtype=int16), array([ -10,   -1,   -7, ..., -924, -693, -418], dtype=int16), array([ 518, 2118, -604, ...,   89,   10,  -16], dtype=int16), array([140, 111,  97, ...,  -8, -11, -17], dtype=int16), array([-5, -6, -1, ...,  3,  4,  2], dtype=int16), array([ 0,  0,  0, ..., 17, 19,  7], dtype=int16), array([ -94, -127, -243, ..., -121,  -94, -127], dtype=int16), array([-2, -2, -2, ...,  4,  3,  4], dtype=int16), array([-468,   39,   47, ...,  -12, -141, -122], dtype=int16), array([   7,  -56,  -50, ..., -775,  131, -384], dtype=int16), array([1440, 1412, 1286, ...,   -7, -533,  524], dtype=int16), array([-137,  129,  195, ...,  -34,  -48,  -45], dtype=int16), array([0, 0, 0, ..., 4, 5, 4], dtype=int16), array([   8,   13,   31, ..., -465, -224,   21], dtype=int16), array([-77,  50,  -3, ...,  -4,   2,  -4], dtype=int16), array([   3,    5,    6, ..., -133, -385, -335], dtype=int16), array([ 16,  16,  16, ..., 358, 372, 292], dtype=int16), array([  0,   0,   0, ..., -15, -18, -26], dtype=int16), array([  4,   0,   0, ...,  -1,  -8, -21], dtype=int16), array([13, 11,  8, ..., -6, -7, -1], dtype=int16), array([ 0,  7,  7, ...,  5,  0, 39], dtype=int16), array([ 4284,  3226,  2499, ..., -1723,   943,   505], dtype=int16), array([-59, -35, -35, ...,  -1,   2,   7], dtype=int16), array([ 24,  54,  48, ..., -15, -40, -17], dtype=int16), array([ 17,  86, 119, ...,  -4,  24,  -7], dtype=int16), array([ 768,  593,  434, ...,  106, 1075,  -20], dtype=int16), array([-119,  -35,  127, ...,  -19,   -5,    9], dtype=int16), array([ 14,  27,  35, ..., -23, -23, -22], dtype=int16), array([ 13,  15,  46, ..., 106,  78, 180], dtype=int16), array([-5020, -2179,   675, ..., -1223, -1335, -1290], dtype=int16), array([-36,  15,  36, ..., -52,   7,  45], dtype=int16), array([-14, -14,   1, ...,  -1,  -3,  -1], dtype=int16), array([-768, -724, -575, ..., -170, -135,  -85], dtype=int16), array([ 175,  158,  250, ...,  -28,  -47, -101], dtype=int16), array([   60,    60,    34, ..., -8603, -5893, -4123], dtype=int16), array([ -48,  -51,  -30, ..., -143,  -19,   81], dtype=int16), array([    7,     8,     9, ...,  -258,  -504, -1076], dtype=int16), array([  11,    1,   -8, ..., -805, -620, -564], dtype=int16), array([15,  1, -6, ..., -4, -5, -3], dtype=int16), array([ -7, -12,   1, ...,  15,  25,  34], dtype=int16), array([ -81,  -85,  -71, ..., -125, -134, -109], dtype=int16), array([-405, -448, -334, ..., 1069, -241, -384], dtype=int16), array([-124,  142, -161, ...,  247,  728, -273], dtype=int16), array([-262,   64,  307, ..., 1138, 1145, 1653], dtype=int16), array([ 1935, -3529, -2234, ..., -1830,  1299,   873], dtype=int16), array([   6,    8,    8, ...,  101,  -30, -360], dtype=int16), array([ 193,  191,  169, ..., -475, -423,   38], dtype=int16), array([ -20,  -17,    2, ...,  540,  222, -428], dtype=int16), array([-27, -36, -29, ..., -35, -25, -23], dtype=int16), array([  1,   8,   4, ..., -13,  29,  13], dtype=int16), array([ 3574, -2012, -1417, ...,   742,  2514, -1111], dtype=int16), array([   9,    6,    3, ...,  838,  423, -467], dtype=int16), array([ 54,  31,  49, ..., -63, -49, -35], dtype=int16), array([  207,    58,   -21, ..., -1233,  -124,   837], dtype=int16), array([544, 547, 546, ...,  86, 103, 127], dtype=int16), array([ 60,  42,  21, ...,  32,  20, -43], dtype=int16), array([ 15,   8,   0, ..., -97, 256, 545], dtype=int16), array([-86, -78, -77, ...,   5,  37,  68], dtype=int16), array([  -5,  -16,    0, ...,  382, -237, -469], dtype=int16), array([-122,  -97,  -72, ...,   20,   19,   17], dtype=int16), array([ -54, -472, -234, ...,  173, -547,  -57], dtype=int16), array([-172, -131,  -62, ...,   16,   30,   41], dtype=int16), array([-77, -79, -86, ..., -75, -70, -55], dtype=int16), array([-148, -174,  236, ...,   -6,  -12,   -9], dtype=int16), array([-111,  -49, -446, ..., -170, -150,   92], dtype=int16), array([-43, -34, -17, ...,  27,  37,  47], dtype=int16), array([-23, -25, -34, ..., -22, -23, -25], dtype=int16), array([  6,   4,   2, ..., -55, -44,  20], dtype=int16), array([ -5, -17, -21, ...,  -2,  -1,   2], dtype=int16), array([1001, 1605, 2595, ..., -266, -167, -301], dtype=int16), array([-20, -26, -28, ...,  -7, -16, -10], dtype=int16), array([   5,    0,   -4, ..., -153, -414, -634], dtype=int16), array([  3,   2,   7, ..., 835, 747, 660], dtype=int16), array([-227, -357, -286, ..., 1515,  944,   73], dtype=int16), array([  -5,   40,   49, ..., -593, -211, -123], dtype=int16), array([-60, -59, -83, ..., 310, 358, 443], dtype=int16), array([-102,   -2,  129, ...,    0,   -4,    0], dtype=int16), array([  -5,    1,    0, ...,  -34, -117, -253], dtype=int16), array([  509,   384,  -217, ...,  1084,    39, -1012], dtype=int16), array([ 2,  1, -2, ..., -3, -1,  1], dtype=int16), array([-312, -273,  -58, ..., -136, -141, -113], dtype=int16), array([-12, -20, -14, ...,  -8,  13,  14], dtype=int16), array([   3,   -1,   -3, ..., -255,  -45,  -19], dtype=int16), array([  -3,    0,    1, ...,  161,  -13, -145], dtype=int16), array([-110, 1213, 1189, ...,  -21,  -35,  -29], dtype=int16), array([     1,     -8,    -15, ...,  -9242,  -8715, -10900], dtype=int16), array([ 0,  8, 15, ...,  5,  6, 10], dtype=int16), array([-1,  2,  9, ..., -2,  4,  9], dtype=int16), array([ 0,  0,  0, ..., -9, 40, 25], dtype=int16), array([ 0,  0,  0, ...,  0,  7, -3], dtype=int16), array([ 360,  249,  603, ..., 2667, 2548, 2692], dtype=int16), array([-1,  0,  0, ...,  4, 14,  6], dtype=int16), array([   15,   317,  -459, ...,  -870, -1188,  -471], dtype=int16), array([ 0,  0,  0, ...,  0, -3,  1], dtype=int16), array([  -7,    4,   19, ..., -177, -196, -182], dtype=int16), array([ -332,  -251,  -150, ..., -1025,  -907,  -738], dtype=int16), array([ 18,   6, -26, ...,   9,  -7, -21], dtype=int16), array([-395,  285, -248, ...,  -24,  752,  142], dtype=int16), array([-323,   28,  503, ...,  -61,  -41,  -23], dtype=int16), array([ 19,  35,  41, ..., 460, 624, 540], dtype=int16), array([   11,     0,    -4, ...,  -171, -1169, -1343], dtype=int16), array([-29, -30, -29, ...,   0,  -1,   0], dtype=int16), array([  0,  -3,   0, ...,  -9, -12, -13], dtype=int16), array([ -6,  -8,  -8, ..., -11,  25,  18], dtype=int16), array([-913, -710, -780, ...,   77,  184,  166], dtype=int16), array([ -9, -10,   6, ...,  -6,   5,   4], dtype=int16), array([ 31,  34,  37, ..., -51, -48,   7], dtype=int16), array([1791, 2073, 2255, ...,  -59,  -25,   85], dtype=int16), array([ 6,  3,  3, ..., 12, 13,  9], dtype=int16), array([  12,  107,  164, ..., -207, -190, -143], dtype=int16), array([-131, -115, -113, ...,  -91,  -75,  -70], dtype=int16), array([-46, -34, -28, ..., -19, -33, -49], dtype=int16), array([ 0,  0,  0, ..., 31, 26, 22], dtype=int16), array([  -195,   -167,   -148, ..., -23769, -27014, -28639], dtype=int16), array([ 0,  0,  0, ..., -8, -1, -1], dtype=int16), array([  0,   0,   0, ...,  58,  36, -22], dtype=int16), array([3711, 3353, 3618, ...,  -23,  -61,   -6], dtype=int16), array([2686, 3667, 3732, ...,  136, -188,  519], dtype=int16), array([   2,    2,    1, ..., -138, -125, -101], dtype=int16), array([ 0,  0,  0, ...,  8,  5, -5], dtype=int16), array([  18,    9,   10, ...,  183,  -96, -432], dtype=int16), array([-58, -72, -26, ..., 480, 408, 305], dtype=int16), array([ 0,  0, -1, ...,  2,  7, -2], dtype=int16), array([   51,   -63,    97, ..., -1020,   -46,   217], dtype=int16), array([  1,   9,   0, ..., 111, 825, 181], dtype=int16), array([-147, -111,  -83, ...,  -60,  -59,  -71], dtype=int16), array([  5, -12,   7, ...,  13,  13,  19], dtype=int16), array([ 516,  335,   65, ..., -111, -307, -401], dtype=int16), array([-32, -26,   7, ..., 216, -78, -29], dtype=int16), array([ 296,   18,   -7, ..., -312, -399, -458], dtype=int16), array([ 2,  5,  1, ..., -1, -3,  4], dtype=int16), array([-1,  2, -1, ...,  0,  1,  1], dtype=int16), array([  -1,   35,    9, ..., -118, -196, -209], dtype=int16), array([   -2,    -5,    -3, ...,  -867,  -928, -1040], dtype=int16), array([ 5,  3,  4, ...,  5,  1, -1], dtype=int16), array([-1909, -1432, -1012, ...,   548,   565,   524], dtype=int16), array([  546,   436,   578, ..., -2668, -1871,  -961], dtype=int16), array([2492, 2253, 2010, ...,  291,  505,  707], dtype=int16), array([ -52, -243, -179, ..., -270,  541,  352], dtype=int16), array([-656, -637, 1037, ..., 1578, 1317, 1008], dtype=int16), array([ 0,  0,  0, ..., -5, -8, -7], dtype=int16), array([   1,    2,    3, ..., 5449, 3617, 2739], dtype=int16), array([ 0,  0,  0, ...,  1,  1, -1], dtype=int16), array([  69, -198, -420, ...,  -10,   -7,   12], dtype=int16), array([ -24,  -30,  -14, ..., -141, -506, -627], dtype=int16), array([   31,  -115,   -46, ..., -8007, -4011,  3754], dtype=int16), array([ -12,    0,   -5, ..., 2477, 2949, -572], dtype=int16), array([  14,   18,   36, ...,  724,  -88, -955], dtype=int16), array([507, 278, -18, ..., 342, 335, 283], dtype=int16), array([ -29,  -38,  -44, ..., -106,  -88,  -62], dtype=int16), array([ 1138,  1307, -1388, ...,   104,  1011, -1878], dtype=int16), array([ 2, 26, 63, ..., -2,  0, -4], dtype=int16), array([ -91,  -94, -128, ...,  -62, -100,  -79], dtype=int16), array([  -2,   80,   21, ..., 3262, 1644,  174], dtype=int16), array([  0,   0,   0, ..., -75, -55, -60], dtype=int16), array([ 181,  231,  304, ..., -173, -199,  -37], dtype=int16), array([-47,   0,  35, ..., -33, -25, -20], dtype=int16), array([256, 230, 325, ..., -25, -25, -37], dtype=int16), array([-127,  -88,  -56, ...,    9,    4,   22], dtype=int16), array([-31,  14,  -2, ..., -16, -16, -15], dtype=int16), array([ -548,  -660,  -746, ..., -1687, -1657, -1723], dtype=int16), array([ 28, -28, -57, ..., -44, 212, 163], dtype=int16), array([ -932, -1045, -1142, ...,   187,   149,    80], dtype=int16), array([228, 182, 145, ...,  28,   2, -42], dtype=int16), array([-23, -30, -21, ...,   3,   4,   9], dtype=int16), array([   8,    6,   13, ..., -121,  -70,    1], dtype=int16), array([-42, -78, -76, ..., -19, -18,   9], dtype=int16), array([-84,   7,  15, ..., -61, -32,  -5], dtype=int16), array([ 174,  958, 1645, ...,  302,  247,  176], dtype=int16), array([-4,  4, -3, ..., -9,  2, -3], dtype=int16), array([-25, -73, -90, ..., -39, -17,  13], dtype=int16), array([ 5,  6, 11, ..., 70, 52, 40], dtype=int16), array([ 54, -18, -29, ..., -45, -77, -49], dtype=int16), array([  14,   77,   25, ..., -499,  612, 2052], dtype=int16), array([2265, 1132,  143, ..., -439,  271,  -16], dtype=int16), array([  8,   3,  -2, ...,  20, 147, 172], dtype=int16), array([  -7,   -6,   -4, ..., -377, -284, -202], dtype=int16), array([  -7,   77,   76, ..., -238, -134,  139], dtype=int16), array([-840,  774, 2199, ..., -132, -264, -284], dtype=int16), array([ 25,  22,  -8, ...,  53,   7, -47], dtype=int16), array([ 1,  5, 13, ...,  7, 28, 26], dtype=int16), array([  -6,  -73, -139, ...,    0,    7,    5], dtype=int16), array([-62, -47, -21, ..., -24, -10,  16], dtype=int16), array([ 71,  92, 112, ...,  48,  40,  37], dtype=int16), array([-392,  -32,   -4, ...,   -6,  -12,  -17], dtype=int16), array([ -34, -242, -475, ...,  244,  245,  237], dtype=int16), array([   1,   -1,    1, ..., -234, -242, -251], dtype=int16), array([-54,  -9,  21, ..., -37, -52, -26], dtype=int16), array([ 0,  2,  2, ..., -1, -3, -6], dtype=int16), array([   0,   -6,  -10, ..., -361,  -84,  150], dtype=int16), array([ -23,  -39,   33, ..., -404, -402, -407], dtype=int16), array([  1,  -1,  -1, ...,  -6,  22, -51], dtype=int16), array([26, 39, -2, ...,  0,  1,  4], dtype=int16), array([ 1,  4,  2, ..., 12,  8,  9], dtype=int16), array([ 711,  249, -295, ..., -613,   87, -643], dtype=int16), array([-3, -1, -3, ..., -6, -5,  1], dtype=int16), array([  60,   36,   -1, ..., -175,  -15,   82], dtype=int16), array([ 1,  7, 12, ..., 11,  8, 17], dtype=int16), array([  9,  14,  20, ..., 373, 483, 381], dtype=int16), array([-253,  513,  336, ...,  342,  384, -274], dtype=int16), array([-2334, -3380,  -240, ...,  7727,  1037, -4593], dtype=int16), array([131, 182, 227, ...,  36,  67,  87], dtype=int16), array([  12,    8,   10, ..., -286, -308, -301], dtype=int16), array([  -1,    1,    3, ..., 1505, 2495, 2131], dtype=int16), array([ 0,  1, -3, ..., -1,  1,  1], dtype=int16), array([341, 306, 305, ..., 248, 366, 432], dtype=int16), array([ 475,  230, -358, ...,  652,  802,  818], dtype=int16), array([-246,   78,  372, ...,  104, -416,  238], dtype=int16), array([-188,  120,  264, ..., -614,  -17,  427], dtype=int16), array([24,  5, -5, ..., 21, 28, 36], dtype=int16), array([-570, -608, -629, ...,  127,  -59,  -80], dtype=int16), array([-101,  -83,  -73, ...,    0,   -1,    1], dtype=int16), array([ 58,  54,  52, ..., 229, 458, 515], dtype=int16), array([  1,   0,   0, ..., 327, 361, 386], dtype=int16), array([674, 625, 570, ..., 213, 220, 223], dtype=int16), array([    4,     8,     6, ...,  1085,  -382, -1297], dtype=int16), array([   7,    8,    5, ..., -124, -135, -166], dtype=int16), array([   6,    9,   19, ..., -827, -705, -353], dtype=int16), array([   29,    26,    27, ..., -1191, -1141,  -643], dtype=int16), array([-1511,  1505,  2196, ..., -1677,  -250, -1862], dtype=int16), array([  49,   59,    0, ..., -913,  782, 1656], dtype=int16), array([  -1,  -74, -161, ...,  -10,    9,   24], dtype=int16), array([ 869, -948,  677, ..., -101,  -58,   -6], dtype=int16), array([  0,   0,   0, ..., -28, -16,  -6], dtype=int16), array([ -51,  -88, -102, ...,   10,   15,    8], dtype=int16), array([-350, -255, -177, ...,    0,    7,   12], dtype=int16), array([-86, 111,  54, ..., -14,   4, -56], dtype=int16), array([-122, -116, -129, ...,  -74,  225,  477], dtype=int16), array([ 1740,  1699,  1475, ..., -1069, -1139,  -943], dtype=int16), array([  111,  -128,   144, ...,  -359, -1494, -1071], dtype=int16), array([  1,  -7,  -9, ..., -15,   0,   1], dtype=int16), array([ 8, -2,  6, ...,  0, -1, 14], dtype=int16), array([  1,   1,   0, ..., 122, 135,  87], dtype=int16), array([ -515,  3036, -1748, ...,   155,   130,   197], dtype=int16), array([ 1,  0,  1, ..., -2, -3, -1], dtype=int16), array([ -5,  -8,  -1, ...,   3, -12,  17], dtype=int16), array([ -21,  -23,  -30, ..., -400,  -21,  253], dtype=int16), array([ 387,  749,  845, ...,  -91, -103,  -76], dtype=int16), array([    0,     0,     1, ..., -3442, -2629, -1616], dtype=int16), array([  -1,  -21,   -7, ..., -101, -109,  -90], dtype=int16), array([  100,   -15,  -133, ...,  -811, -1499,  -840], dtype=int16), array([343, 289, 363, ..., 278, 445, -57], dtype=int16), array([ 333,   58, -629, ...,  663,  547,  -92], dtype=int16), array([-879,   36,  820, ..., -102,  -95,  -95], dtype=int16), array([-16,   2,  68, ...,  83, 192, 231], dtype=int16), array([ -82,  -79,  -72, ...,  -76, -103, -124], dtype=int16), array([ 17,  -4, -12, ...,  11,   7,   1], dtype=int16), array([ -7,   9,  20, ..., -26, -23, -10], dtype=int16), array([ 39,  35,  20, ..., -16, -11, -16], dtype=int16), array([-110, -169, -229, ...,   36,  -45,  -37], dtype=int16), array([-15,  19,  23, ...,   1,  10,  15], dtype=int16), array([-3766, -7725, -8362, ..., 15313, 24275, 27870], dtype=int16), array([-56, -18,  32, ..., -75,  62, 225], dtype=int16), array([-2830, -3386, -3939, ...,  1770,  1905,  1465], dtype=int16), array([-16,  -3,  -1, ...,  -3,   2,   8], dtype=int16), array([-1453, -2542, -3267, ...,    52,    -3,    27], dtype=int16), array([ 49, -90, 147, ...,  -6,  11,   5], dtype=int16), array([ 28,  27,  27, ..., -30, -40, -20], dtype=int16), array([ 0,  0,  0, ..., 61, 61, 64], dtype=int16), array([-11, -11, -13, ...,  -5,  -8,  -9], dtype=int16), array([ -3,  -2,  -1, ...,  -8, -15,  -8], dtype=int16), array([  20,    4,    6, ..., 4078, 3804, 2899], dtype=int16), array([-887, -596,   57, ...,   -9, -445, -669], dtype=int16), array([ 37,  29,  21, ..., -75, -35, -44], dtype=int16), array([ 22, -29, -34, ..., 158, -66, -25], dtype=int16), array([ -4,  -3,  -2, ..., -21, -25, -34], dtype=int16), array([-313, -299, -317, ...,   98,  103,  109], dtype=int16), array([  -5,   43,   68, ...,  -29,  -93, -118], dtype=int16), array([48, 40, -4, ..., 80, 81, 97], dtype=int16), array([ -1339,   7728,  10371, ...,   2727,  -7792, -14048], dtype=int16), array([  12,   12,    7, ..., -831, -699, -309], dtype=int16), array([ 15,  22,  26, ..., -68, -67, -42], dtype=int16), array([ 15,  15, -34, ..., -34, -25, -16], dtype=int16), array([ 466,  520,  551, ..., -472, -603, -456], dtype=int16), array([-207, -246, -201, ...,  -75,  -73,  -60], dtype=int16), array([  0,   0,   0, ...,  25, -34, -38], dtype=int16), array([ -23,   10,   54, ...,  387, 1737, 2265], dtype=int16), array([ 659,   24, -676, ..., -749, -720, -423], dtype=int16), array([  0,   0,   0, ..., -25, -20, -22], dtype=int16), array([  0,   1,   0, ..., -18, -21, -21], dtype=int16), array([   -1,     3,     7, ..., -1195,  -828,  -869], dtype=int16), array([2719, 3910, 4120, ..., -200,  -44, -219], dtype=int16), array([-2,  1,  2, ...,  4,  3, -1], dtype=int16), array([9458, 7659, 1872, ...,  172, -246,  411], dtype=int16), array([  13,  -63,   16, ...,   65, -240, -395], dtype=int16), array([ 435,  446,  393, ..., 1230, 1055,  736], dtype=int16), array([-1405,  -537,   -55, ...,  -656,  -491,  -300], dtype=int16), array([-1365,  -559,    34, ...,  -178,  -139,   562], dtype=int16), array([  -1,    1,   -1, ..., -580,  847,  -30], dtype=int16), array([-32,  -3,  17, ..., 177, 153, 165], dtype=int16), array([ 2086, -1113, -1447, ...,   -18,    64,    48], dtype=int16), array([-1400,  -931,  -611, ...,  -791, -1169, -1502], dtype=int16), array([ 2,  2,  0, ..., 34, 20, -8], dtype=int16), array([-57, -69, -75, ...,  53,  49,  29], dtype=int16), array([-725, -748, -753, ..., 1325,  300, -143], dtype=int16), array([5218, -423,  725, ...,  491, -276, -341], dtype=int16), array([  0,   0,   0, ..., -24,  13,   1], dtype=int16), array([-13, -13, -10, ...,  -9,  -1,  11], dtype=int16), array([-747, -792, -837, ...,  226,  177,  133], dtype=int16), array([-15, -11, -12, ...,  16,  15,  16], dtype=int16), array([   6,    6,    6, ...,   48, -203,  186], dtype=int16), array([-11, -39, -42, ...,   1,   0,   1], dtype=int16), array([ 2, -2, -9, ...,  1,  2,  0], dtype=int16), array([-134, -116,  -95, ...,  163,  186,  119], dtype=int16), array([-37, -34, -43, ..., 504, 480, 397], dtype=int16), array([2221, 2935, 3245, ..., -408,  -39,  498], dtype=int16), array([ -8,  -6, -10, ...,  23,   4,   9], dtype=int16), array([99, 79, 66, ..., -5, 12, 31], dtype=int16), array([  6,   2,  -3, ..., 226, 311, 302], dtype=int16), array([  2,   7,   8, ..., -42,   2,  23], dtype=int16), array([142,  14, -88, ..., 212, 145,  64], dtype=int16), array([ -2, -11, -16, ..., -30, -20, -17], dtype=int16), array([  0,   2,   1, ...,  -9, -10, -12], dtype=int16), array([-1931, -2076, -2240, ...,   852,   430,   337], dtype=int16), array([-313,  160,  503, ..., -120, -139, -156], dtype=int16), array([ 38, -90, 103, ...,  26,  24,  64], dtype=int16), array([  0,   0,   0, ...,  76, 100,  68], dtype=int16), array([-4123, -4329, -3598, ..., -1853, -1602, -1759], dtype=int16), array([ -40, -244,  -99, ...,   26,   18,    7], dtype=int16), array([-534, -415, -438, ...,   48,  140,  146], dtype=int16), array([ 1201,  -640, -7926, ...,   760, -1190, -3468], dtype=int16), array([ -53,  -36,   -1, ..., 3324, 3514, 3660], dtype=int16), array([ 2,  4,  5, ..., -6, -2, -4], dtype=int16), array([-90, -36, -26, ...,  -7,  -7,  33], dtype=int16), array([ 74,  66,  71, ..., 110, -63,  -3], dtype=int16), array([  47,   35,   27, ...,  -75,  -86, -105], dtype=int16), array([  -17,     1,     8, ..., -1841, -1816, -1244], dtype=int16), array([-44, -81, -58, ...,  13, -37, -72], dtype=int16), array([-5042, -5396, -3099, ...,  1264,  1149,   810], dtype=int16), array([ -4,  -2,  -7, ..., 195, 163, 129], dtype=int16)]\n"
     ]
    }
   ],
   "source": [
    "# random 3 sec segmentation\n",
    "\n",
    "from util.detector import Detector\n",
    "from util.utility_functions import segment_audio, segment_audio_unknown\n",
    "\n",
    "detector = Detector()\n",
    "detector = None\n",
    "\n",
    "segmented_data_train = segment_audio(raw_data_train, detector)\n",
    "\n",
    "segmented_data_test = segment_audio(raw_data_test, detector)\n",
    "\n",
    "segmented_data_unknown = segment_audio_unknown(raw_data_unknown)\n"
   ]
  },
  {
   "cell_type": "markdown",
   "metadata": {},
   "source": [
    "# Extraction features"
   ]
  },
  {
   "cell_type": "code",
   "execution_count": 6,
   "metadata": {
    "collapsed": true
   },
   "outputs": [],
   "source": [
    "from util.utility_functions import extract_feature\n",
    "\n",
    "mode = 'mbe'\n",
    "x_train = np.array(extract_feature(segmented_data_train, mode))\n",
    "x_test = np.array(extract_feature(segmented_data_test, mode))\n",
    "x_unknown = np.array(extract_feature(segmented_data_unknown, mode))\n"
   ]
  },
  {
   "cell_type": "code",
   "execution_count": 7,
   "metadata": {
    "collapsed": true
   },
   "outputs": [
    {
     "name": "stdout",
     "output_type": "stream",
     "text": [
      "(137, 298, 40)\n"
     ]
    }
   ],
   "source": [
    "label_train = raw_data_train[:,1]\n",
    "y_train = np.zeros((label_train.shape[0],8))\n",
    "\n",
    "for i in range(label_train.shape[0]):\n",
    "    label = int(label_train[i])\n",
    "    y_train[i, label] = 1\n",
    "    \n",
    "label_test= raw_data_test[:,1]\n",
    "y_test = np.zeros((label_test.shape[0],8))\n",
    "\n",
    "for i in range(label_test.shape[0]):\n",
    "    label = int(label_test[i])\n",
    "    if(label ==8):\n",
    "        continue\n",
    "    y_test[i, label] = 1\n",
    "print(x_unknown.shape)\n"
   ]
  },
  {
   "cell_type": "code",
   "execution_count": 8,
   "metadata": {},
   "outputs": [
    {
     "name": "stdout",
     "output_type": "stream",
     "text": [
      "(137, 298, 40)\n[[0. 0. 1. ... 0. 0. 0.]\n [0. 0. 1. ... 0. 0. 0.]\n [0. 0. 0. ... 0. 0. 1.]\n ...\n [1. 0. 0. ... 0. 0. 0.]\n [0. 0. 1. ... 0. 0. 0.]\n [0. 0. 1. ... 0. 0. 0.]]\n"
     ]
    }
   ],
   "source": [
    "print(x_unknown.shape)\n",
    "print(y_train)"
   ]
  },
  {
   "cell_type": "code",
   "execution_count": 9,
   "metadata": {},
   "outputs": [],
   "source": [
    "filename = 'mbe_3sec_random_default'\n",
    "np.save('data/'+ filename, x_train)\n",
    "np.save('data/y', y_train)\n",
    "np.save('data/' + filename+ '_test', x_test)\n",
    "np.save('data/y_test', y_test)\n",
    "np.save('data/x_unknown',x_unknown)"
   ]
  },
  {
   "cell_type": "markdown",
   "metadata": {},
   "source": [
    "#Detector"
   ]
  },
  {
   "cell_type": "code",
   "execution_count": 4,
   "metadata": {},
   "outputs": [
    {
     "name": "stdout",
     "output_type": "stream",
     "text": [
      "(432, 2)\n"
     ]
    }
   ],
   "source": [
    "# extract features for training detector\n",
    "\n",
    "\n",
    "# test \n",
    "\n",
    "# files without events\n",
    "background = raw_data_test[raw_data_test[:,1] == '0']\n",
    "\n",
    "background_features_test = []\n",
    "\n",
    "for frame in background[:,0]:\n",
    "\n",
    "    sound = get_random_segment(frame)\n",
    "    feature = lmfe(sound.astype(float), 16000)\n",
    "\n",
    "    background_features_test.append(feature)\n",
    "\n",
    "\n",
    "# files with events\n",
    "events1 = raw_data_test[(raw_data_test[:,1] == '1')]\n",
    "events2 = raw_data_test[(raw_data_test[:,1] == '2')]\n",
    "events3 = raw_data_test[(raw_data_test[:,1] == '3')]\n",
    "events4 = raw_data_test[(raw_data_test[:,1] == '4')]\n",
    "events5 = raw_data_test[(raw_data_test[:,1] == '5')]\n",
    "events6 = raw_data_test[(raw_data_test[:,1] == '6')]\n",
    "events7 = raw_data_test[(raw_data_test[:,1] == '7')]\n",
    "\n",
    "events = np.concatenate([events1,events2, events3, events4, events5, events6, events7])\n",
    "\n",
    "event_features_test = []\n",
    "for frame in events[:,0]:\n",
    "    # extract feature\n",
    "    sound = get_random_segment(frame)\n",
    "    feature = lmfe(sound.astype(float), 16000)\n",
    "\n",
    "    event_features_test.append(feature)\n",
    "\n",
    "    pass\n",
    "\n",
    "print(events.shape)\n",
    "\n",
    "# train \n",
    "\n",
    "background = raw_data_train[raw_data_train[:,1] == '0']\n",
    "\n",
    "background_features_train= []\n",
    "\n",
    "for frame in background[:,0]:\n",
    "\n",
    "    sound = get_random_segment(frame)\n",
    "    feature = lmfe(sound.astype(float), 16000)\n",
    "\n",
    "    background_features_train.append(feature)\n",
    "\n",
    "\n",
    "# files with events\n",
    "events1 = raw_data_train[(raw_data_train[:,1] == '1')]\n",
    "events2 = raw_data_train[(raw_data_train[:,1] == '2')]\n",
    "events3 = raw_data_train[(raw_data_train[:,1] == '3')]\n",
    "events4 = raw_data_train[(raw_data_train[:,1] == '4')]\n",
    "events5 = raw_data_train[(raw_data_train[:,1] == '5')]\n",
    "events6 = raw_data_train[(raw_data_train[:,1] == '6')]\n",
    "events7 = raw_data_train[(raw_data_train[:,1] == '7')]\n",
    "\n",
    "events = np.concatenate([events1,events2, events3, events4, events5, events6, events7])\n",
    "\n",
    "event_features_train = []\n",
    "for frame in events[:,0]:\n",
    "    # extract feature\n",
    "    sound = get_random_segment(frame)\n",
    "    feature = lmfe(sound.astype(float), 16000)\n",
    "\n",
    "    event_features_train.append(feature)\n",
    "\n",
    "    pass\n"
   ]
  },
  {
   "cell_type": "code",
   "execution_count": 5,
   "metadata": {},
   "outputs": [],
   "source": [
    "from sklearn.utils import shuffle\n",
    "\n",
    "\n",
    "event_features_train = shuffle(event_features_train)\n",
    "event_features_train = event_features_train[:1000]\n",
    "x_train_detector = np.concatenate([background_features_train, event_features_train])\n",
    "x_train_detector = x_train_detector.reshape((-1,x_train_detector.shape[1],x_train_detector.shape[2], 1))\n",
    "y_train_detector = np.zeros((x_train_detector.shape[0],2))\n",
    "y_train_detector[:len(background_features_train), 0] = 1\n",
    "y_train_detector[len(background_features_train):, 1] = 1\n",
    "\n",
    "event_features_test = shuffle(event_features_test)\n",
    "event_features_test = event_features_test[:100]\n",
    "x_test_detector = np.concatenate([background_features_test, event_features_test])\n",
    "x_test_detector = x_test_detector.reshape((-1,x_test_detector.shape[1], x_test_detector.shape[2], 1))\n",
    "y_test_detector = np.zeros((x_test_detector.shape[0],2))\n",
    "y_test_detector[:len(background_features_test), 0] = 1\n",
    "y_test_detector[len(background_features_test):, 1] = 1\n",
    "\n",
    "\n",
    "filename = 'detector_data'\n",
    "np.save('data/' + filename, x_train_detector)\n",
    "np.save('data/y' + filename, y_train_detector)\n",
    "\n",
    "filename_test = 'detector_data_test'\n",
    "np.save('data/' + filename, x_test_detector)\n",
    "np.save('data/y' + filename, y_test_detector)\n"
   ]
  },
  {
   "cell_type": "code",
   "execution_count": 6,
   "metadata": {},
   "outputs": [
    {
     "data": {
      "text/plain": [
       "(2126, 298, 40, 1)"
      ]
     },
     "execution_count": 6,
     "metadata": {},
     "output_type": "execute_result"
    }
   ],
   "source": [
    "x_train_detector.shape\n"
   ]
  },
  {
   "cell_type": "code",
   "execution_count": null,
   "metadata": {},
   "outputs": [],
   "source": []
  }
 ],
 "metadata": {
  "kernelspec": {
   "display_name": "Python 2",
   "language": "python",
   "name": "python2"
  },
  "language_info": {
   "codemirror_mode": {
    "name": "ipython",
    "version": 2
   },
   "file_extension": ".py",
   "mimetype": "text/x-python",
   "name": "python",
   "nbconvert_exporter": "python",
   "pygments_lexer": "ipython2",
   "version": "2.7.6"
  }
 },
 "nbformat": 4,
 "nbformat_minor": 0
}
