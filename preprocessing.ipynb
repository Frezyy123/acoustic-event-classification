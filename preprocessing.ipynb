{
 "cells": [
  {
   "cell_type": "code",
   "execution_count": 1,
   "metadata": {
    "collapsed": false
   },
   "outputs": [
    {
     "name": "stderr",
     "output_type": "stream",
     "text": [
      "Using TensorFlow backend.\n"
     ]
    }
   ],
   "source": [
    "import tensorflow\n",
    "import numpy as np\n",
    "import keras\n",
    "import os\n",
    "from utility_functions import load_dataset\n",
    "\n",
    "path_to_file = '/home/alexandr/data/audio/'\n",
    "path_to_file_test = '/home/alexandr/data/test/'\n",
    "path_to_file_unknown = '/home/alexandr/data/unknown/'"
   ]
  },
  {
   "cell_type": "code",
   "execution_count": 2,
   "metadata": {},
   "outputs": [],
   "source": [
    "# extract classes from txt file\n",
    "\n",
    "raw_classes = np.loadtxt('/home/alexandr/data/meta/meta.txt', dtype='str')\n",
    "#print(raw_classes)\n",
    "classes = np.delete(raw_classes, [1, 2, 3], 1)\n",
    "text_labels = ['background', 'bags', 'door', 'keyboard', 'knocking_door', 'ring', 'speech', 'tool']\n",
    "\n",
    "for index, label in enumerate(text_labels):\n",
    "    classes[classes == label] = index\n",
    "\n",
    "dict_classes = dict(classes)\n",
    "classes_test = np.loadtxt('./meta-test.txt',dtype='str')\n",
    "dict_classes_test = dict(classes_test)\n",
    "\n",
    "raw_data_train = np.array(load_dataset(path_to_file, dict_classes))\n",
    "raw_data_test = np.array(load_dataset(path_to_file_test, dict_classes_test))\n",
    "raw_data_unknown = np.array(load_dataset(path_to_file_unknown))\n"
   ]
  },
  {
   "cell_type": "code",
   "execution_count": 3,
   "metadata": {
    "collapsed": true
   },
   "outputs": [
    {
     "ename": "KeyboardInterrupt",
     "evalue": "",
     "traceback": [
      "\u001b[0;31m---------------------------------------------------------------------------\u001b[0m",
      "\u001b[0;31mKeyboardInterrupt\u001b[0m                         Traceback (most recent call last)",
      "\u001b[0;32m<ipython-input-3-ea75d866de1b>\u001b[0m in \u001b[0;36m<module>\u001b[0;34m()\u001b[0m\n\u001b[1;32m      4\u001b[0m \u001b[0mbackground\u001b[0m \u001b[0;34m=\u001b[0m \u001b[0mraw_data_train\u001b[0m\u001b[0;34m[\u001b[0m\u001b[0mraw_data_train\u001b[0m\u001b[0;34m[\u001b[0m\u001b[0;34m:\u001b[0m\u001b[0;34m,\u001b[0m\u001b[0;36m1\u001b[0m\u001b[0;34m]\u001b[0m \u001b[0;34m==\u001b[0m \u001b[0;34m'0'\u001b[0m\u001b[0;34m]\u001b[0m\u001b[0;34m\u001b[0m\u001b[0m\n\u001b[1;32m      5\u001b[0m \u001b[0;32mfor\u001b[0m \u001b[0mframe\u001b[0m \u001b[0;32min\u001b[0m \u001b[0mbackground\u001b[0m\u001b[0;34m:\u001b[0m\u001b[0;34m\u001b[0m\u001b[0m\n\u001b[0;32m----> 6\u001b[0;31m     \u001b[0moverall_RMS\u001b[0m \u001b[0;34m+=\u001b[0m \u001b[0mcalculate_RMS\u001b[0m\u001b[0;34m(\u001b[0m\u001b[0mframe\u001b[0m\u001b[0;34m[\u001b[0m\u001b[0;36m0\u001b[0m\u001b[0;34m]\u001b[0m\u001b[0;34m.\u001b[0m\u001b[0mastype\u001b[0m\u001b[0;34m(\u001b[0m\u001b[0mint\u001b[0m\u001b[0;34m)\u001b[0m\u001b[0;34m)\u001b[0m\u001b[0;34m\u001b[0m\u001b[0m\n\u001b[0m\u001b[1;32m      7\u001b[0m     \u001b[0mlist_RMS\u001b[0m\u001b[0;34m.\u001b[0m\u001b[0mappend\u001b[0m\u001b[0;34m(\u001b[0m\u001b[0mcalculate_RMS\u001b[0m\u001b[0;34m(\u001b[0m\u001b[0mframe\u001b[0m\u001b[0;34m[\u001b[0m\u001b[0;36m0\u001b[0m\u001b[0;34m]\u001b[0m\u001b[0;34m.\u001b[0m\u001b[0mastype\u001b[0m\u001b[0;34m(\u001b[0m\u001b[0mint\u001b[0m\u001b[0;34m)\u001b[0m\u001b[0;34m)\u001b[0m\u001b[0;34m)\u001b[0m\u001b[0;34m\u001b[0m\u001b[0m\n\u001b[1;32m      8\u001b[0m \u001b[0mmean_background\u001b[0m \u001b[0;34m=\u001b[0m \u001b[0moverall_RMS\u001b[0m\u001b[0;34m/\u001b[0m\u001b[0mlen\u001b[0m\u001b[0;34m(\u001b[0m\u001b[0mbackground\u001b[0m\u001b[0;34m)\u001b[0m\u001b[0;34m\u001b[0m\u001b[0m\n",
      "\u001b[0;32m/home/alexandr/PycharmProjects/test_task_STC/detector.py\u001b[0m in \u001b[0;36mcalculate_RMS\u001b[0;34m(frame)\u001b[0m\n\u001b[1;32m     13\u001b[0m     \u001b[0msumm\u001b[0m \u001b[0;34m=\u001b[0m \u001b[0;36m0\u001b[0m\u001b[0;34m\u001b[0m\u001b[0m\n\u001b[1;32m     14\u001b[0m     \u001b[0;32mfor\u001b[0m \u001b[0mamp\u001b[0m \u001b[0;32min\u001b[0m \u001b[0mframe\u001b[0m\u001b[0;34m:\u001b[0m\u001b[0;34m\u001b[0m\u001b[0m\n\u001b[0;32m---> 15\u001b[0;31m         \u001b[0msumm\u001b[0m \u001b[0;34m+=\u001b[0m \u001b[0mamp\u001b[0m \u001b[0;34m**\u001b[0m \u001b[0;36m2\u001b[0m\u001b[0;34m\u001b[0m\u001b[0m\n\u001b[0m\u001b[1;32m     16\u001b[0m     \u001b[0mRMS\u001b[0m \u001b[0;34m=\u001b[0m \u001b[0msqrt\u001b[0m\u001b[0;34m(\u001b[0m\u001b[0msumm\u001b[0m \u001b[0;34m/\u001b[0m \u001b[0mlen\u001b[0m\u001b[0;34m(\u001b[0m\u001b[0mframe\u001b[0m\u001b[0;34m)\u001b[0m\u001b[0;34m)\u001b[0m\u001b[0;34m\u001b[0m\u001b[0m\n\u001b[1;32m     17\u001b[0m     \u001b[0;32mreturn\u001b[0m \u001b[0mRMS\u001b[0m\u001b[0;34m\u001b[0m\u001b[0m\n",
      "\u001b[0;31mKeyboardInterrupt\u001b[0m: "
     ],
     "output_type": "error"
    }
   ],
   "source": [
    "from detector import calculate_RMS\n",
    "overall_RMS = 0\n",
    "list_RMS = []\n",
    "background = raw_data_train[raw_data_train[:,1] == '0']\n",
    "for frame in background:\n",
    "    overall_RMS += calculate_RMS(frame[0].astype(int))\n",
    "    list_RMS.append(calculate_RMS(frame[0].astype(int)))\n",
    "mean_background = overall_RMS/len(background)\n",
    "print(mean_background)\n",
    "\n",
    "events1 = raw_data_train[(raw_data_train[:,1] == '1')]\n",
    "events2 = raw_data_train[(raw_data_train[:,1] == '2')]\n",
    "events3 = raw_data_train[(raw_data_train[:,1] == '3')]\n",
    "events4 = raw_data_train[(raw_data_train[:,1] == '4')]\n",
    "events5 = raw_data_train[(raw_data_train[:,1] == '5')]\n",
    "events6 = raw_data_train[(raw_data_train[:,1] == '6')]\n",
    "events7 = raw_data_train[(raw_data_train[:,1] == '7')]\n",
    "\n",
    "\n",
    "events = np.concatenate([events1,events2, events3, events4, events5, events6, events7])\n",
    "\n",
    "# for frame in events:\n",
    "#     list_RMS.append(calculate_RMS(frame[0].astype(int)))\n",
    "min_events = np.min(list_RMS)\n",
    "\n",
    "print(events.shape)"
   ]
  },
  {
   "cell_type": "code",
   "execution_count": 20,
   "metadata": {},
   "outputs": [
    {
     "name": "stdout",
     "output_type": "stream",
     "text": [
      "[  1.36164045   1.3724955    1.37888762 ... 488.40743365 493.50026942\n 501.93080995]\n"
     ]
    }
   ],
   "source": [
    "print(np.sort(list_RMS))"
   ]
  },
  {
   "cell_type": "code",
   "execution_count": 3,
   "metadata": {
    "collapsed": true
   },
   "outputs": [],
   "source": [
    "# \n",
    "# cropped_data_train = []\n",
    "# for sound in raw_data_train[:,0]:\n",
    "#     start_point = detect_startpoint(sound)\n",
    "#     cropped_data_train.append(sound[start_point:])\n",
    "# cropped_data_train = np.array(cropped_data_train)\n",
    "# print (1)\n",
    "# cropped_data_test = []\n",
    "# for sound in raw_data_test[:,0]:\n",
    "#     start_point = detect_startpoint(sound)\n",
    "#     cropped_data_test.append(sound[start_point:])\n",
    "# cropped_data_test = np.array(cropped_data_test)\n",
    "cropped_data_train =raw_data_train\n",
    "cropped_data_test = raw_data_test\n",
    "cropped_data_unknown = raw_data_unknown"
   ]
  },
  {
   "cell_type": "code",
   "execution_count": 4,
   "metadata": {
    "collapsed": true
   },
   "outputs": [
    {
     "name": "stdout",
     "output_type": "stream",
     "text": [
      "(15192.722284164529, True)\n"
     ]
    },
    {
     "name": "stdout",
     "output_type": "stream",
     "text": [
      "(19065.559526279332, True)\n"
     ]
    },
    {
     "name": "stdout",
     "output_type": "stream",
     "text": [
      "(345039.96372671594, True)\n"
     ]
    },
    {
     "name": "stdout",
     "output_type": "stream",
     "text": [
      "(98565.7230082022, True)\n(59569.990155356994, True)\n(389177.8432480689, True)\n"
     ]
    },
    {
     "name": "stdout",
     "output_type": "stream",
     "text": [
      "(359036.3120664211, True)\n(305444.2515922127, True)\n"
     ]
    },
    {
     "name": "stdout",
     "output_type": "stream",
     "text": [
      "(65923.86431061865, True)\n(56812.64324764324, True)\n"
     ]
    },
    {
     "name": "stdout",
     "output_type": "stream",
     "text": [
      "(245651.6600908717, True)\n(35312.77453268594, True)\n"
     ]
    },
    {
     "name": "stdout",
     "output_type": "stream",
     "text": [
      "(40998.569046666635, True)\n(36017.90536443363, True)\n"
     ]
    },
    {
     "name": "stdout",
     "output_type": "stream",
     "text": [
      "(4408.895046996572, True)\n(412947.0031167485, True)\n"
     ]
    },
    {
     "name": "stdout",
     "output_type": "stream",
     "text": [
      "(629931.0027918346, True)\n(181731.57996656612, True)\n"
     ]
    },
    {
     "name": "stdout",
     "output_type": "stream",
     "text": [
      "(76324.527462911, True)\n(210601.94345020538, True)\n"
     ]
    },
    {
     "name": "stdout",
     "output_type": "stream",
     "text": [
      "(9996.439413485716, True)\n(143152.31780680706, True)\n"
     ]
    },
    {
     "name": "stdout",
     "output_type": "stream",
     "text": [
      "(22845.71509326977, True)\n(9219.104311980132, True)\n"
     ]
    },
    {
     "name": "stdout",
     "output_type": "stream",
     "text": [
      "(31867.989334873742, True)\n(551779.499468454, True)\n"
     ]
    },
    {
     "name": "stdout",
     "output_type": "stream",
     "text": [
      "(70972.62621115889, True)\n(459216.4093139891, True)\n"
     ]
    },
    {
     "name": "stdout",
     "output_type": "stream",
     "text": [
      "(44510.28898346226, True)\n(22151.331159121055, True)\n"
     ]
    },
    {
     "name": "stdout",
     "output_type": "stream",
     "text": [
      "(23310.209612870574, True)\n(96460.75493719343, True)\n"
     ]
    },
    {
     "name": "stdout",
     "output_type": "stream",
     "text": [
      "(15737.743087948624, True)\n"
     ]
    },
    {
     "name": "stdout",
     "output_type": "stream",
     "text": [
      "(32563.09727512246, True)\n(37252.953306554875, True)\n"
     ]
    },
    {
     "name": "stdout",
     "output_type": "stream",
     "text": [
      "(2477.7411924540947, True)\n"
     ]
    },
    {
     "name": "stdout",
     "output_type": "stream",
     "text": [
      "(39596.61559105195, True)\n"
     ]
    },
    {
     "name": "stdout",
     "output_type": "stream",
     "text": [
      "(18608.545964733705, True)\n(16779.081814501213, True)\n"
     ]
    },
    {
     "name": "stdout",
     "output_type": "stream",
     "text": [
      "(83594.09775625328, True)\n"
     ]
    },
    {
     "name": "stdout",
     "output_type": "stream",
     "text": [
      "(325994.8361835233, True)\n"
     ]
    },
    {
     "name": "stdout",
     "output_type": "stream",
     "text": [
      "(445831.6719439382, True)\n(34663.40277482209, True)\n(64055.90700755631, True)\n"
     ]
    },
    {
     "name": "stdout",
     "output_type": "stream",
     "text": [
      "(334484.1928056009, True)\n"
     ]
    },
    {
     "name": "stdout",
     "output_type": "stream",
     "text": [
      "(17642.07916151136, True)\n(21464.3741992114, True)\n(74314.75060117047, True)\n"
     ]
    },
    {
     "name": "stdout",
     "output_type": "stream",
     "text": [
      "(169442.5091042096, True)\n"
     ]
    },
    {
     "ename": "KeyboardInterrupt",
     "evalue": "",
     "traceback": [
      "\u001b[0;31m---------------------------------------------------------------------------\u001b[0m",
      "\u001b[0;31mKeyboardInterrupt\u001b[0m                         Traceback (most recent call last)",
      "\u001b[0;32m<ipython-input-4-a77fad3a8e65>\u001b[0m in \u001b[0;36m<module>\u001b[0;34m()\u001b[0m\n\u001b[1;32m     11\u001b[0m     \u001b[0msegmented_data_train\u001b[0m\u001b[0;34m.\u001b[0m\u001b[0mappend\u001b[0m\u001b[0;34m(\u001b[0m\u001b[0mfragment\u001b[0m\u001b[0;34m)\u001b[0m\u001b[0;34m\u001b[0m\u001b[0m\n\u001b[1;32m     12\u001b[0m \u001b[0;34m\u001b[0m\u001b[0m\n\u001b[0;32m---> 13\u001b[0;31m     \u001b[0mRMS\u001b[0m\u001b[0;34m,\u001b[0m \u001b[0misEvent\u001b[0m \u001b[0;34m=\u001b[0m \u001b[0mdetect_event\u001b[0m\u001b[0;34m(\u001b[0m\u001b[0mfragment\u001b[0m\u001b[0;34m)\u001b[0m\u001b[0;34m\u001b[0m\u001b[0m\n\u001b[0m\u001b[1;32m     14\u001b[0m     \u001b[0;32mif\u001b[0m \u001b[0misEvent\u001b[0m\u001b[0;34m:\u001b[0m\u001b[0;34m\u001b[0m\u001b[0m\n\u001b[1;32m     15\u001b[0m         \u001b[0mprint\u001b[0m\u001b[0;34m(\u001b[0m\u001b[0mdetect_event\u001b[0m\u001b[0;34m(\u001b[0m\u001b[0mfragment\u001b[0m\u001b[0;34m)\u001b[0m\u001b[0;34m)\u001b[0m\u001b[0;34m\u001b[0m\u001b[0m\n",
      "\u001b[0;32m/home/alexandr/PycharmProjects/test_task_STC/detector.py\u001b[0m in \u001b[0;36mdetect_event\u001b[0;34m(data)\u001b[0m\n\u001b[1;32m     24\u001b[0m     \u001b[0;32mfor\u001b[0m \u001b[0mi\u001b[0m \u001b[0;32min\u001b[0m \u001b[0mrange\u001b[0m\u001b[0;34m(\u001b[0m\u001b[0mint\u001b[0m\u001b[0;34m(\u001b[0m\u001b[0mlen\u001b[0m\u001b[0;34m(\u001b[0m\u001b[0mdata\u001b[0m\u001b[0;34m)\u001b[0m \u001b[0;34m/\u001b[0m \u001b[0mwindow_length\u001b[0m\u001b[0;34m)\u001b[0m\u001b[0;34m)\u001b[0m\u001b[0;34m:\u001b[0m\u001b[0;34m\u001b[0m\u001b[0m\n\u001b[1;32m     25\u001b[0m         \u001b[0mframe\u001b[0m \u001b[0;34m=\u001b[0m \u001b[0mdata\u001b[0m\u001b[0;34m[\u001b[0m\u001b[0mi\u001b[0m \u001b[0;34m*\u001b[0m \u001b[0mwindow_length\u001b[0m\u001b[0;34m:\u001b[0m\u001b[0mwindow_length\u001b[0m \u001b[0;34m*\u001b[0m \u001b[0;34m(\u001b[0m\u001b[0;36m1\u001b[0m \u001b[0;34m+\u001b[0m \u001b[0mi\u001b[0m\u001b[0;34m)\u001b[0m\u001b[0;34m]\u001b[0m\u001b[0;34m\u001b[0m\u001b[0m\n\u001b[0;32m---> 26\u001b[0;31m         \u001b[0moverall_RMS\u001b[0m \u001b[0;34m+=\u001b[0m \u001b[0mcalculate_RMS\u001b[0m\u001b[0;34m(\u001b[0m\u001b[0mframe\u001b[0m\u001b[0;34m)\u001b[0m\u001b[0;34m\u001b[0m\u001b[0m\n\u001b[0m\u001b[1;32m     27\u001b[0m         \u001b[0mframes\u001b[0m\u001b[0;34m.\u001b[0m\u001b[0mappend\u001b[0m\u001b[0;34m(\u001b[0m\u001b[0mdata\u001b[0m\u001b[0;34m[\u001b[0m\u001b[0mi\u001b[0m \u001b[0;34m*\u001b[0m \u001b[0mwindow_length\u001b[0m\u001b[0;34m:\u001b[0m\u001b[0mwindow_length\u001b[0m \u001b[0;34m*\u001b[0m \u001b[0;34m(\u001b[0m\u001b[0;36m1\u001b[0m \u001b[0;34m+\u001b[0m \u001b[0mi\u001b[0m\u001b[0;34m)\u001b[0m\u001b[0;34m]\u001b[0m\u001b[0;34m)\u001b[0m\u001b[0;34m\u001b[0m\u001b[0m\n\u001b[1;32m     28\u001b[0m     \u001b[0;32mif\u001b[0m \u001b[0moverall_RMS\u001b[0m \u001b[0;34m>\u001b[0m \u001b[0mthreshold_detector\u001b[0m\u001b[0;34m:\u001b[0m\u001b[0;34m\u001b[0m\u001b[0m\n",
      "\u001b[0;32m/home/alexandr/PycharmProjects/test_task_STC/detector.py\u001b[0m in \u001b[0;36mcalculate_RMS\u001b[0;34m(frame)\u001b[0m\n\u001b[1;32m     13\u001b[0m     \u001b[0msumm\u001b[0m \u001b[0;34m=\u001b[0m \u001b[0;36m0\u001b[0m\u001b[0;34m\u001b[0m\u001b[0m\n\u001b[1;32m     14\u001b[0m     \u001b[0;32mfor\u001b[0m \u001b[0mamp\u001b[0m \u001b[0;32min\u001b[0m \u001b[0mframe\u001b[0m\u001b[0;34m:\u001b[0m\u001b[0;34m\u001b[0m\u001b[0m\n\u001b[0;32m---> 15\u001b[0;31m         \u001b[0msumm\u001b[0m \u001b[0;34m+=\u001b[0m \u001b[0mamp\u001b[0m \u001b[0;34m**\u001b[0m \u001b[0;36m2\u001b[0m\u001b[0;34m\u001b[0m\u001b[0m\n\u001b[0m\u001b[1;32m     16\u001b[0m     \u001b[0mRMS\u001b[0m \u001b[0;34m=\u001b[0m \u001b[0msqrt\u001b[0m\u001b[0;34m(\u001b[0m\u001b[0msumm\u001b[0m \u001b[0;34m/\u001b[0m \u001b[0mlen\u001b[0m\u001b[0;34m(\u001b[0m\u001b[0mframe\u001b[0m\u001b[0;34m)\u001b[0m\u001b[0;34m)\u001b[0m\u001b[0;34m\u001b[0m\u001b[0m\n\u001b[1;32m     17\u001b[0m     \u001b[0;32mreturn\u001b[0m \u001b[0mRMS\u001b[0m\u001b[0;34m\u001b[0m\u001b[0m\n",
      "\u001b[0;31mKeyboardInterrupt\u001b[0m: "
     ],
     "output_type": "error"
    }
   ],
   "source": [
    "# first second segmentation\n",
    "from detector import detect_event\n",
    "from utility_functions import find_longest, padding_data, get_random_segment\n",
    "\n",
    "# max_length = find_longest(raw_data)\n",
    "# pad_data = padding_data(raw_data, max_length)\n",
    "segmented_data_train = []\n",
    "\n",
    "# TODO remove index\n",
    "for index, sound in enumerate(cropped_data_train[:,0]):\n",
    "    fragment = get_random_segment(sound)\n",
    "    segmented_data_train.append(fragment)\n",
    "    \n",
    "    RMS, isEvent = detect_event(fragment)\n",
    "    if isEvent:\n",
    "        print(detect_event(fragment))\n",
    "segmented_data_train = np.array(segmented_data_train)\n",
    "\n",
    "\n",
    "segmented_data_test= []\n",
    "\n",
    "for index, sound in enumerate(cropped_data_test[:,0]):\n",
    "    fragment = get_random_segment(sound)\n",
    "    segmented_data_test.append(fragment)\n",
    "    detect_event(fragment)\n",
    "segmented_data_test = np.array(segmented_data_test)\n",
    "\n",
    "segmented_data_unknown = []\n",
    "\n",
    "for index, sound in enumerate(cropped_data_unknown):\n",
    "    segmented_data_unknown.append(get_random_segment(sound))"
   ]
  },
  {
   "cell_type": "code",
   "execution_count": 5,
   "metadata": {},
   "outputs": [],
   "source": [
    "# clean memory\n",
    "pad_data = None\n",
    "raw_data = None\n",
    "extracted_features = None"
   ]
  },
  {
   "cell_type": "code",
   "execution_count": 7,
   "metadata": {},
   "outputs": [
    {
     "name": "stdout",
     "output_type": "stream",
     "text": [
      "(11307, 48000)\n(473, 48000)\n(11307, 2)\n(473, 2)\n(137, 48000)\n"
     ]
    }
   ],
   "source": [
    "print(np.array(segmented_data_train).shape)\n",
    "print(np.array(segmented_data_test).shape)\n",
    "print(np.array(raw_data_train).shape)\n",
    "print(np.array(raw_data_test).shape)\n",
    "print(np.array(segmented_data_unknown).shape)\n"
   ]
  },
  {
   "cell_type": "code",
   "execution_count": 6,
   "metadata": {
    "collapsed": true
   },
   "outputs": [],
   "source": [
    "import librosa\n",
    "from speechpy.feature import lmfe\n",
    "\n",
    "extracted_features_train = []\n",
    "extracted_features_test = []\n",
    "extracted_features_unknown = []\n",
    "\n",
    "def extract_feature(mode='mfcc'):\n",
    "    if mode == 'mfcc':\n",
    "        for sound in segmented_data_train:\n",
    "            feature = librosa.feature.mfcc(sound.astype(float), sr=16000, n_mfcc=20)\n",
    "            extracted_features_train.append(feature)\n",
    "\n",
    "        for sound in segmented_data_test:\n",
    "            extracted_features_test.append(librosa.feature.mfcc(sound.astype(float), sr=16000, n_mfcc=20))\n",
    "    elif mode == 'mbe':\n",
    "\n",
    "        for sound in segmented_data_train:\n",
    "            feature = lmfe(sound.astype(float), 16000)\n",
    "            extracted_features_train.append(feature)\n",
    "\n",
    "        for sound in segmented_data_test:\n",
    "            extracted_features_test.append(lmfe(sound.astype(float), 16000))\n",
    "            \n",
    "        for sound in segmented_data_unknown:\n",
    "            extracted_features_unknown.append(lmfe(sound.astype(float), 16000))    \n",
    "            \n",
    "extract_feature('mbe')\n",
    "x_train = np.array(extracted_features_train)\n",
    "x_test = np.array(extracted_features_test)\n",
    "x_unknown = np.array(extracted_features_unknown)\n"
   ]
  },
  {
   "cell_type": "code",
   "execution_count": 8,
   "metadata": {},
   "outputs": [
    {
     "name": "stdout",
     "output_type": "stream",
     "text": [
      "(11307, 298, 40)\n(11307,)\n(473, 298, 40)\n(473,)\n(137, 298, 40)\n"
     ]
    }
   ],
   "source": [
    "# temporary cell\n",
    "print(x_train.shape)\n",
    "y_train = np.array(raw_data_train[:,1])\n",
    "print(y_train.shape)\n",
    "print(x_test.shape)\n",
    "y_test = np.array(raw_data_test[:,1])\n",
    "print(y_test.shape)\n",
    "\n",
    "print(x_unknown.shape)\n"
   ]
  },
  {
   "cell_type": "code",
   "execution_count": 5,
   "metadata": {},
   "outputs": [
    {
     "data": {
      "text/plain": [
       "(473,)"
      ]
     },
     "execution_count": 5,
     "metadata": {},
     "output_type": "execute_result"
    }
   ],
   "source": [
    "raw_data_test[:,1].shape"
   ]
  },
  {
   "cell_type": "code",
   "execution_count": 9,
   "metadata": {},
   "outputs": [],
   "source": [
    "filename = 'mbe_3sec_random_default'\n",
    "np.save('/home/alexandr/'+ filename, x_train)\n",
    "np.save('/home/alexandr/y', y_train)\n",
    "np.save('/home/alexandr/' + filename+ '_test', x_test)\n",
    "np.save('/home/alexandr/y_test', y_test)\n",
    "np.save('/home/alexandr/x_unknown',x_unknown)"
   ]
  },
  {
   "cell_type": "code",
   "execution_count": 7,
   "metadata": {},
   "outputs": [],
   "source": [
    "y_test = np.array(raw_data_test[:,1])\n",
    "\n",
    "np.save('/home/alexandr/y_test', y_test)"
   ]
  },
  {
   "cell_type": "code",
   "execution_count": 3,
   "metadata": {},
   "outputs": [],
   "source": [
    "from keras.models import Sequential\n",
    "from keras.layers import GRU, Dense, Activation, LSTM, Dropout\n",
    "from keras.metrics import categorical_accuracy\n",
    "from keras.utils import plot_model\n",
    "import numpy as np\n",
    "x_train = np.zeros((11307, 298, 40))\n",
    "\n",
    "model = Sequential()\n",
    "\n",
    "model.add(LSTM(256, input_shape = (x_train.shape[1:]), return_sequences = False))\n",
    "\n",
    "model.add(Dense(8))\n",
    "model.add(Activation('softmax'))\n",
    "model.compile(loss='categorical_crossentropy', optimizer='adam', metrics=[categorical_accuracy])\n",
    "plot_model(model, to_file=  '/home/alexandr/model.png', show_shapes=True)\n"
   ]
  },
  {
   "cell_type": "code",
   "execution_count": null,
   "metadata": {},
   "outputs": [],
   "source": []
  }
 ],
 "metadata": {
  "kernelspec": {
   "display_name": "Python 2",
   "language": "python",
   "name": "python2"
  },
  "language_info": {
   "codemirror_mode": {
    "name": "ipython",
    "version": 2
   },
   "file_extension": ".py",
   "mimetype": "text/x-python",
   "name": "python",
   "nbconvert_exporter": "python",
   "pygments_lexer": "ipython2",
   "version": "2.7.6"
  }
 },
 "nbformat": 4,
 "nbformat_minor": 0
}
