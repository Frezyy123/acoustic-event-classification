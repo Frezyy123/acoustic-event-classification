{
 "cells": [
  {
   "cell_type": "code",
   "execution_count": 1,
   "metadata": {
    "collapsed": true
   },
   "outputs": [
    {
     "name": "stdout",
     "output_type": "stream",
     "text": [
      "1130\n"
     ]
    },
    {
     "name": "stderr",
     "output_type": "stream",
     "text": [
      "Using TensorFlow backend.\n"
     ]
    }
   ],
   "source": [
    "import tensorflow\n",
    "import numpy as np\n",
    "import keras\n",
    "import os\n",
    "from utility_functions import load_dataset\n",
    "\n",
    "path_to_file = '/home/alexandr/data/audio/'\n",
    "raw_data = load_dataset(path_to_file)"
   ]
  },
  {
   "cell_type": "code",
   "execution_count": 2,
   "metadata": {
    "collapsed": true
   },
   "outputs": [
    {
     "name": "stdout",
     "output_type": "stream",
     "text": [
      "10240\n14338\n9820\n8457\n9635\n15396\n7739\n9926\n7080\n4861\n3662\n9183\n6586\n13391\n11970\n10140\n8693\n10815\n12342\n11675\n15103\n7130\n8462\n10928\n9915\n3631\n12217\n2834\n11792\n11122\n10660\n14313\n5154\n12340\n14614\n14244\n6544\n11088\n14353\n8512\n13771\n10771\n10811\n2996\n11872\n14614\n15398\n12116\n14982\n8895\n9945\n14674\n3744\n15058\n8997\n15324\n10457\n15399\n15707\n6268\n12781\n8188\n10237\n8071\n10184\n15515\n6555\n7376\n9389\n"
     ]
    }
   ],
   "source": [
    "# find the longest sound\n",
    "from utility_functions import find_longest, padding_data, get_random_segment\n",
    "\n",
    "# max_length = find_longest(raw_data)\n",
    "# pad_data = padding_data(raw_data, max_length)\n",
    "segmented_data = []\n",
    "for sound in raw_data:\n",
    "    segmented_data.append(get_random_segment(sound))\n",
    "\n",
    "segmented_data = np.array(segmented_data)"
   ]
  },
  {
   "cell_type": "code",
   "execution_count": 18,
   "metadata": {},
   "outputs": [],
   "source": [
    "# clean memory\n",
    "pad_data = None\n",
    "raw_data = None\n",
    "extracted_features = None"
   ]
  },
  {
   "cell_type": "code",
   "execution_count": 3,
   "metadata": {},
   "outputs": [
    {
     "name": "stdout",
     "output_type": "stream",
     "text": [
      "(1130, 16000)\n"
     ]
    }
   ],
   "source": [
    "print(segmented_data.shape)"
   ]
  },
  {
   "cell_type": "code",
   "execution_count": 4,
   "metadata": {
    "collapsed": true
   },
   "outputs": [],
   "source": [
    "import librosa\n",
    "\n",
    "\n",
    "\n",
    "extracted_features = []\n",
    "for sound in segmented_data:\n",
    "    extracted_features.append(librosa.feature.mfcc(sound.astype(float),sr=16000, n_mfcc=15))\n",
    "    "
   ]
  },
  {
   "cell_type": "code",
   "execution_count": 5,
   "metadata": {},
   "outputs": [
    {
     "data": {
      "text/plain": [
       "(15, 32)"
      ]
     },
     "execution_count": 5,
     "metadata": {},
     "output_type": "execute_result"
    }
   ],
   "source": [
    "extracted_features[56].shape"
   ]
  },
  {
   "cell_type": "code",
   "execution_count": null,
   "metadata": {},
   "outputs": [],
   "source": []
  }
 ],
 "metadata": {
  "kernelspec": {
   "display_name": "Python 2",
   "language": "python",
   "name": "python2"
  },
  "language_info": {
   "codemirror_mode": {
    "name": "ipython",
    "version": 2
   },
   "file_extension": ".py",
   "mimetype": "text/x-python",
   "name": "python",
   "nbconvert_exporter": "python",
   "pygments_lexer": "ipython2",
   "version": "2.7.6"
  }
 },
 "nbformat": 4,
 "nbformat_minor": 0
}
